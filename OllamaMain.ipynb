{
 "cells": [
  {
   "cell_type": "code",
   "execution_count": 1,
   "id": "d3c82862",
   "metadata": {},
   "outputs": [],
   "source": [
    "import os\n",
    "import spacy\n",
    "import pandas as pd\n",
    "import re\n",
    "from spacy.matcher import Matcher\n",
    "from langchain.llms import Ollama\n",
    "from langchain.prompts import PromptTemplate\n",
    "from langchain.chains import LLMChain\n",
    "from sectag_utils import sectag_to_regex, find_segs"
   ]
  },
  {
   "cell_type": "code",
   "execution_count": 2,
   "id": "c0b8242b",
   "metadata": {},
   "outputs": [],
   "source": [
    "header_patterns, seg_names = sectag_to_regex(\"SecTag.csv\", seg_col=\"str\", header_col=\"kmname\")"
   ]
  },
  {
   "cell_type": "code",
   "execution_count": 3,
   "id": "f38b095c",
   "metadata": {},
   "outputs": [],
   "source": [
    "data_dir = \"ClinicalNotes\"\n",
    "clinical_notes = {\n",
    "    fname: open(os.path.join(data_dir, fname), encoding='utf-8').read()\n",
    "    for fname in os.listdir(data_dir) if fname.endswith(\".txt\")\n",
    "}"
   ]
  },
  {
   "cell_type": "code",
   "execution_count": 5,
   "id": "4697ff30",
   "metadata": {},
   "outputs": [],
   "source": [
    "def extract_subjective(note):\n",
    "    sections = find_segs(note, header_patterns, seg_names)\n",
    "    for head, types, start, end in sections:\n",
    "        if \"subjective\" in [t.lower() for t in types]:\n",
    "            return note[start:end].strip()\n",
    "    return \"\"\n",
    "\n",
    "subjective_texts = {fname: extract_subjective(text) for fname, text in clinical_notes.items()}"
   ]
  },
  {
   "cell_type": "code",
   "execution_count": 7,
   "id": "4fa417fd",
   "metadata": {},
   "outputs": [],
   "source": [
    "nlp = spacy.load(\"en_core_web_sm\")\n",
    "matcher = Matcher(nlp.vocab)\n",
    "symptoms = [\"pain\", \"numbness\", \"tingling\", \"insomnia\", \"asthma\", \"cough\", \"fever\", \"diarrhea\", \"headache\", \"depression\"]\n",
    "matcher.add(\"SYMPTOMS\", [[{\"LOWER\": word}] for word in symptoms])\n",
    "\n",
    "def extract_symptoms(text):\n",
    "    doc = nlp(text)\n",
    "    matches = matcher(doc)\n",
    "    return list(set([doc[start:end].text.lower() for _, start, end in matches]))\n",
    "\n",
    "extracted_symptoms = {\n",
    "    fname: extract_symptoms(text) for fname, text in subjective_texts.items()\n",
    "}"
   ]
  },
  {
   "cell_type": "code",
   "execution_count": 9,
   "id": "d26d735b",
   "metadata": {},
   "outputs": [
    {
     "name": "stderr",
     "output_type": "stream",
     "text": [
      "C:\\Users\\ONKAR KULKARNI\\AppData\\Local\\Temp\\ipykernel_36592\\3725348343.py:13: LangChainDeprecationWarning: The class `LLMChain` was deprecated in LangChain 0.1.17 and will be removed in 1.0. Use :meth:`~RunnableSequence, e.g., `prompt | llm`` instead.\n",
      "  chain = LLMChain(llm=llm, prompt=prompt)\n",
      "C:\\Users\\ONKAR KULKARNI\\AppData\\Local\\Temp\\ipykernel_36592\\3725348343.py:19: LangChainDeprecationWarning: The method `Chain.run` was deprecated in langchain 0.1.0 and will be removed in 1.0. Use :meth:`~invoke` instead.\n",
      "  response = chain.run(text=subjective_texts[fname], condition=symptom).strip()\n"
     ]
    }
   ],
   "source": [
    "llm = Ollama(model=\"llama3.2\")\n",
    "prompt = PromptTemplate(\n",
    "    input_variables=[\"text\", \"condition\"],\n",
    "    template=\"\"\"\n",
    "Given the patient's subjective report:\n",
    "---\n",
    "{text}\n",
    "---\n",
    "Is the condition '{condition}' present or absent? Reply only with 'Present' or 'Absent'.\n",
    "\"\"\"\n",
    ")\n",
    "\n",
    "chain = LLMChain(llm=llm, prompt=prompt)\n",
    "\n",
    "classified_results = {}\n",
    "for fname in subjective_texts:\n",
    "    classified_results[fname] = {}\n",
    "    for symptom in extracted_symptoms[fname]:\n",
    "        response = chain.run(text=subjective_texts[fname], condition=symptom).strip()\n",
    "        classified_results[fname][symptom] = response\n",
    "\n"
   ]
  },
  {
   "cell_type": "code",
   "execution_count": 10,
   "id": "45a064f4",
   "metadata": {},
   "outputs": [
    {
     "name": "stdout",
     "output_type": "stream",
     "text": [
      "\n",
      "--- sample_214.txt ---\n",
      "\n",
      "--- sample_2627.txt ---\n",
      "cough: Present.\n",
      "headache: Absent.\n",
      "pain: Present\n",
      "\n",
      "--- sample_343.txt ---\n",
      "asthma: Present.\n",
      "diarrhea: Absent.\n",
      "pain: Present.\n",
      "\n",
      "--- sample_365.txt ---\n",
      "numbness: Present\n",
      "cough: Present.\n",
      "pain: Present.\n",
      "insomnia: Present.\n",
      "tingling: Present.\n",
      "\n",
      "--- sample_388.txt ---\n",
      "fever: Present.\n",
      "diarrhea: Present.\n",
      "\n",
      "--- sample_391.txt ---\n",
      "insomnia: Present.\n",
      "pain: Present.\n",
      "\n",
      "--- sample_392.txt ---\n",
      "depression: Present.\n",
      "\n",
      "--- sample_452.txt ---\n",
      "asthma: Absent.\n",
      "cough: Present\n",
      "\n",
      "--- sample_70.txt ---\n",
      "cough: Absent\n",
      "pain: Present\n",
      "\n",
      "--- sample_71.txt ---\n",
      "diarrhea: Absent.\n",
      "pain: Absent.\n"
     ]
    }
   ],
   "source": [
    "for fname, results in classified_results.items():\n",
    "    print(f\"\\n--- {fname} ---\")\n",
    "    for symptom, status in results.items():\n",
    "        print(f\"{symptom}: {status}\")"
   ]
  }
 ],
 "metadata": {
  "kernelspec": {
   "display_name": "base",
   "language": "python",
   "name": "python3"
  },
  "language_info": {
   "codemirror_mode": {
    "name": "ipython",
    "version": 3
   },
   "file_extension": ".py",
   "mimetype": "text/x-python",
   "name": "python",
   "nbconvert_exporter": "python",
   "pygments_lexer": "ipython3",
   "version": "3.12.7"
  }
 },
 "nbformat": 4,
 "nbformat_minor": 5
}
